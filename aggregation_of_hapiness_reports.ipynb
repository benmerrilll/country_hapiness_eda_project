{
  "nbformat": 4,
  "nbformat_minor": 0,
  "metadata": {
    "colab": {
      "name": "aggregation_of_hapiness_reports.ipynb",
      "provenance": [],
      "collapsed_sections": [],
      "toc_visible": true,
      "authorship_tag": "ABX9TyNsGhnSxTvomyzIFYr6/UpZ",
      "include_colab_link": true
    },
    "kernelspec": {
      "name": "python3",
      "display_name": "Python 3"
    },
    "language_info": {
      "name": "python"
    }
  },
  "cells": [
    {
      "cell_type": "markdown",
      "metadata": {
        "id": "view-in-github",
        "colab_type": "text"
      },
      "source": [
        "<a href=\"https://colab.research.google.com/github/benmerrilll/country_hapiness_eda_project/blob/main/aggregation_of_hapiness_reports.ipynb\" target=\"_parent\"><img src=\"https://colab.research.google.com/assets/colab-badge.svg\" alt=\"Open In Colab\"/></a>"
      ]
    },
    {
      "cell_type": "markdown",
      "metadata": {
        "id": "WQM2gegRSlAU"
      },
      "source": [
        "# Aggregation of World Happiness Reports and World Development Indicators"
      ]
    },
    {
      "cell_type": "markdown",
      "metadata": {
        "id": "uL5SIwGNP2rX"
      },
      "source": [
        "## Part 1.0 Importing Libraries and Data\n",
        "In this notebook, we will use numpy and pandas libraries to manipulate our data. Links to our data sources follow.\n",
        "\n",
        "World Happiness Report: https://www.kaggle.com/unsdsn/world-happiness\n",
        "\n",
        "World Development Indicators: https://databank.worldbank.org/source/World-Development-Indicators?savedlg=1&l=en#"
      ]
    },
    {
      "cell_type": "code",
      "metadata": {
        "id": "uVgj0itXPw93"
      },
      "source": [
        "# Libraries\n",
        "import pandas as pd\n",
        "import numpy as np "
      ],
      "execution_count": 213,
      "outputs": []
    },
    {
      "cell_type": "code",
      "metadata": {
        "colab": {
          "base_uri": "https://localhost:8080/",
          "height": 289
        },
        "id": "fKeq17l5QAVg",
        "outputId": "e0a4de38-1d7d-4851-8682-a460000cdec7"
      },
      "source": [
        "# World Happiness Report Datasets\n",
        "hp_2015 = pd.read_csv('2015.csv')\n",
        "hp_2016 = pd.read_csv('2016.csv')\n",
        "hp_2017 = pd.read_csv('2017.csv')\n",
        "hp_2018 = pd.read_csv('2018.csv')\n",
        "hp_2019 = pd.read_csv('2019.csv') \n",
        "hp_2015.head()"
      ],
      "execution_count": 214,
      "outputs": [
        {
          "output_type": "execute_result",
          "data": {
            "text/html": [
              "<div>\n",
              "<style scoped>\n",
              "    .dataframe tbody tr th:only-of-type {\n",
              "        vertical-align: middle;\n",
              "    }\n",
              "\n",
              "    .dataframe tbody tr th {\n",
              "        vertical-align: top;\n",
              "    }\n",
              "\n",
              "    .dataframe thead th {\n",
              "        text-align: right;\n",
              "    }\n",
              "</style>\n",
              "<table border=\"1\" class=\"dataframe\">\n",
              "  <thead>\n",
              "    <tr style=\"text-align: right;\">\n",
              "      <th></th>\n",
              "      <th>Country</th>\n",
              "      <th>Region</th>\n",
              "      <th>Happiness Rank</th>\n",
              "      <th>Happiness Score</th>\n",
              "      <th>Standard Error</th>\n",
              "      <th>Economy (GDP per Capita)</th>\n",
              "      <th>Family</th>\n",
              "      <th>Health (Life Expectancy)</th>\n",
              "      <th>Freedom</th>\n",
              "      <th>Trust (Government Corruption)</th>\n",
              "      <th>Generosity</th>\n",
              "      <th>Dystopia Residual</th>\n",
              "    </tr>\n",
              "  </thead>\n",
              "  <tbody>\n",
              "    <tr>\n",
              "      <th>0</th>\n",
              "      <td>Switzerland</td>\n",
              "      <td>Western Europe</td>\n",
              "      <td>1</td>\n",
              "      <td>7.587</td>\n",
              "      <td>0.03411</td>\n",
              "      <td>1.39651</td>\n",
              "      <td>1.34951</td>\n",
              "      <td>0.94143</td>\n",
              "      <td>0.66557</td>\n",
              "      <td>0.41978</td>\n",
              "      <td>0.29678</td>\n",
              "      <td>2.51738</td>\n",
              "    </tr>\n",
              "    <tr>\n",
              "      <th>1</th>\n",
              "      <td>Iceland</td>\n",
              "      <td>Western Europe</td>\n",
              "      <td>2</td>\n",
              "      <td>7.561</td>\n",
              "      <td>0.04884</td>\n",
              "      <td>1.30232</td>\n",
              "      <td>1.40223</td>\n",
              "      <td>0.94784</td>\n",
              "      <td>0.62877</td>\n",
              "      <td>0.14145</td>\n",
              "      <td>0.43630</td>\n",
              "      <td>2.70201</td>\n",
              "    </tr>\n",
              "    <tr>\n",
              "      <th>2</th>\n",
              "      <td>Denmark</td>\n",
              "      <td>Western Europe</td>\n",
              "      <td>3</td>\n",
              "      <td>7.527</td>\n",
              "      <td>0.03328</td>\n",
              "      <td>1.32548</td>\n",
              "      <td>1.36058</td>\n",
              "      <td>0.87464</td>\n",
              "      <td>0.64938</td>\n",
              "      <td>0.48357</td>\n",
              "      <td>0.34139</td>\n",
              "      <td>2.49204</td>\n",
              "    </tr>\n",
              "    <tr>\n",
              "      <th>3</th>\n",
              "      <td>Norway</td>\n",
              "      <td>Western Europe</td>\n",
              "      <td>4</td>\n",
              "      <td>7.522</td>\n",
              "      <td>0.03880</td>\n",
              "      <td>1.45900</td>\n",
              "      <td>1.33095</td>\n",
              "      <td>0.88521</td>\n",
              "      <td>0.66973</td>\n",
              "      <td>0.36503</td>\n",
              "      <td>0.34699</td>\n",
              "      <td>2.46531</td>\n",
              "    </tr>\n",
              "    <tr>\n",
              "      <th>4</th>\n",
              "      <td>Canada</td>\n",
              "      <td>North America</td>\n",
              "      <td>5</td>\n",
              "      <td>7.427</td>\n",
              "      <td>0.03553</td>\n",
              "      <td>1.32629</td>\n",
              "      <td>1.32261</td>\n",
              "      <td>0.90563</td>\n",
              "      <td>0.63297</td>\n",
              "      <td>0.32957</td>\n",
              "      <td>0.45811</td>\n",
              "      <td>2.45176</td>\n",
              "    </tr>\n",
              "  </tbody>\n",
              "</table>\n",
              "</div>"
            ],
            "text/plain": [
              "       Country          Region  ...  Generosity  Dystopia Residual\n",
              "0  Switzerland  Western Europe  ...     0.29678            2.51738\n",
              "1      Iceland  Western Europe  ...     0.43630            2.70201\n",
              "2      Denmark  Western Europe  ...     0.34139            2.49204\n",
              "3       Norway  Western Europe  ...     0.34699            2.46531\n",
              "4       Canada   North America  ...     0.45811            2.45176\n",
              "\n",
              "[5 rows x 12 columns]"
            ]
          },
          "metadata": {
            "tags": []
          },
          "execution_count": 214
        }
      ]
    },
    {
      "cell_type": "code",
      "metadata": {
        "colab": {
          "base_uri": "https://localhost:8080/",
          "height": 221
        },
        "id": "mBpie_CRQcJX",
        "outputId": "91b81d73-5ead-4064-c0e3-c7ab8819d421"
      },
      "source": [
        "# World Development Indicators dataset for countries from 2015-2019\n",
        "wdi_data = pd.read_excel('WDI 2015-2019.xlsx')\n",
        "print('Shape is', wdi_data.shape)\n",
        "wdi_data.head()"
      ],
      "execution_count": 215,
      "outputs": [
        {
          "output_type": "stream",
          "text": [
            "Shape is (313136, 9)\n"
          ],
          "name": "stdout"
        },
        {
          "output_type": "execute_result",
          "data": {
            "text/html": [
              "<div>\n",
              "<style scoped>\n",
              "    .dataframe tbody tr th:only-of-type {\n",
              "        vertical-align: middle;\n",
              "    }\n",
              "\n",
              "    .dataframe tbody tr th {\n",
              "        vertical-align: top;\n",
              "    }\n",
              "\n",
              "    .dataframe thead th {\n",
              "        text-align: right;\n",
              "    }\n",
              "</style>\n",
              "<table border=\"1\" class=\"dataframe\">\n",
              "  <thead>\n",
              "    <tr style=\"text-align: right;\">\n",
              "      <th></th>\n",
              "      <th>Country Name</th>\n",
              "      <th>Country Code</th>\n",
              "      <th>Series Name</th>\n",
              "      <th>Series Code</th>\n",
              "      <th>2015 [YR2015]</th>\n",
              "      <th>2016 [YR2016]</th>\n",
              "      <th>2017 [YR2017]</th>\n",
              "      <th>2018 [YR2018]</th>\n",
              "      <th>2019 [YR2019]</th>\n",
              "    </tr>\n",
              "  </thead>\n",
              "  <tbody>\n",
              "    <tr>\n",
              "      <th>0</th>\n",
              "      <td>United States</td>\n",
              "      <td>USA</td>\n",
              "      <td>Access to clean fuels and technologies for coo...</td>\n",
              "      <td>EG.CFT.ACCS.ZS</td>\n",
              "      <td>100</td>\n",
              "      <td>100</td>\n",
              "      <td>..</td>\n",
              "      <td>..</td>\n",
              "      <td>..</td>\n",
              "    </tr>\n",
              "    <tr>\n",
              "      <th>1</th>\n",
              "      <td>United States</td>\n",
              "      <td>USA</td>\n",
              "      <td>Access to electricity (% of population)</td>\n",
              "      <td>EG.ELC.ACCS.ZS</td>\n",
              "      <td>100</td>\n",
              "      <td>100</td>\n",
              "      <td>100</td>\n",
              "      <td>100</td>\n",
              "      <td>..</td>\n",
              "    </tr>\n",
              "    <tr>\n",
              "      <th>2</th>\n",
              "      <td>United States</td>\n",
              "      <td>USA</td>\n",
              "      <td>Access to electricity, rural (% of rural popul...</td>\n",
              "      <td>EG.ELC.ACCS.RU.ZS</td>\n",
              "      <td>100</td>\n",
              "      <td>100</td>\n",
              "      <td>100</td>\n",
              "      <td>100</td>\n",
              "      <td>..</td>\n",
              "    </tr>\n",
              "    <tr>\n",
              "      <th>3</th>\n",
              "      <td>United States</td>\n",
              "      <td>USA</td>\n",
              "      <td>Access to electricity, urban (% of urban popul...</td>\n",
              "      <td>EG.ELC.ACCS.UR.ZS</td>\n",
              "      <td>100</td>\n",
              "      <td>100</td>\n",
              "      <td>100</td>\n",
              "      <td>100</td>\n",
              "      <td>..</td>\n",
              "    </tr>\n",
              "    <tr>\n",
              "      <th>4</th>\n",
              "      <td>United States</td>\n",
              "      <td>USA</td>\n",
              "      <td>Account ownership at a financial institution o...</td>\n",
              "      <td>FX.OWN.TOTL.ZS</td>\n",
              "      <td>..</td>\n",
              "      <td>..</td>\n",
              "      <td>93.1222</td>\n",
              "      <td>..</td>\n",
              "      <td>..</td>\n",
              "    </tr>\n",
              "  </tbody>\n",
              "</table>\n",
              "</div>"
            ],
            "text/plain": [
              "    Country Name Country Code  ... 2018 [YR2018] 2019 [YR2019]\n",
              "0  United States          USA  ...            ..            ..\n",
              "1  United States          USA  ...           100            ..\n",
              "2  United States          USA  ...           100            ..\n",
              "3  United States          USA  ...           100            ..\n",
              "4  United States          USA  ...            ..            ..\n",
              "\n",
              "[5 rows x 9 columns]"
            ]
          },
          "metadata": {
            "tags": []
          },
          "execution_count": 215
        }
      ]
    },
    {
      "cell_type": "markdown",
      "metadata": {
        "id": "NyCAM95xS4ne"
      },
      "source": [
        "## 1.1 Happiness Report Aggregation\n",
        "We will aggregate the world happiness reports by first dropping any columns that are not represented in all 5 datasets and then looking at the 'Country or region' field to provide a uniform format and keep only countries shown in all 5 files."
      ]
    },
    {
      "cell_type": "code",
      "metadata": {
        "id": "Bmtobd1CevC8"
      },
      "source": [
        "# Let's add a year column to each file to help identify it\n",
        "hp_2015['Year'] = 2015\n",
        "hp_2016['Year'] = 2016\n",
        "hp_2017['Year'] = 2017\n",
        "hp_2018['Year'] = 2018\n",
        "hp_2019['Year'] = 2019"
      ],
      "execution_count": 216,
      "outputs": []
    },
    {
      "cell_type": "code",
      "metadata": {
        "colab": {
          "base_uri": "https://localhost:8080/"
        },
        "id": "Ot8Jo0dmeDh4",
        "outputId": "ecdfc572-3694-4ed1-acca-db0b9d9df992"
      },
      "source": [
        "# output to better understand each of our datasets\n",
        "for file in hp_2015, hp_2016, hp_2017, hp_2018, hp_2019:\n",
        "  print('Data in', file['Year'][0])\n",
        "  print('File shape is ',file.shape)\n",
        "  print(file.columns)\n",
        "  print('\\n')"
      ],
      "execution_count": 217,
      "outputs": [
        {
          "output_type": "stream",
          "text": [
            "Data in 2015\n",
            "File shape is  (158, 13)\n",
            "Index(['Country', 'Region', 'Happiness Rank', 'Happiness Score',\n",
            "       'Standard Error', 'Economy (GDP per Capita)', 'Family',\n",
            "       'Health (Life Expectancy)', 'Freedom', 'Trust (Government Corruption)',\n",
            "       'Generosity', 'Dystopia Residual', 'Year'],\n",
            "      dtype='object')\n",
            "\n",
            "\n",
            "Data in 2016\n",
            "File shape is  (157, 14)\n",
            "Index(['Country', 'Region', 'Happiness Rank', 'Happiness Score',\n",
            "       'Lower Confidence Interval', 'Upper Confidence Interval',\n",
            "       'Economy (GDP per Capita)', 'Family', 'Health (Life Expectancy)',\n",
            "       'Freedom', 'Trust (Government Corruption)', 'Generosity',\n",
            "       'Dystopia Residual', 'Year'],\n",
            "      dtype='object')\n",
            "\n",
            "\n",
            "Data in 2017\n",
            "File shape is  (155, 13)\n",
            "Index(['Country', 'Happiness.Rank', 'Happiness.Score', 'Whisker.high',\n",
            "       'Whisker.low', 'Economy..GDP.per.Capita.', 'Family',\n",
            "       'Health..Life.Expectancy.', 'Freedom', 'Generosity',\n",
            "       'Trust..Government.Corruption.', 'Dystopia.Residual', 'Year'],\n",
            "      dtype='object')\n",
            "\n",
            "\n",
            "Data in 2018\n",
            "File shape is  (156, 10)\n",
            "Index(['Overall rank', 'Country or region', 'Score', 'GDP per capita',\n",
            "       'Social support', 'Healthy life expectancy',\n",
            "       'Freedom to make life choices', 'Generosity',\n",
            "       'Perceptions of corruption', 'Year'],\n",
            "      dtype='object')\n",
            "\n",
            "\n",
            "Data in 2019\n",
            "File shape is  (156, 10)\n",
            "Index(['Overall rank', 'Country or region', 'Score', 'GDP per capita',\n",
            "       'Social support', 'Healthy life expectancy',\n",
            "       'Freedom to make life choices', 'Generosity',\n",
            "       'Perceptions of corruption', 'Year'],\n",
            "      dtype='object')\n",
            "\n",
            "\n"
          ],
          "name": "stdout"
        }
      ]
    },
    {
      "cell_type": "markdown",
      "metadata": {
        "id": "9pHYycLoYACa"
      },
      "source": [
        "There's a few things we realize here:\n",
        "- The number of countries (rows) is different for every year\n",
        "- The columns lables are formatted differently\n",
        "\n",
        "Next, we'll **reformat the column labels** manually, creating a uniform 10 fields for each year's dataframe. We will match 2015, 2016, and 2017 to the format of 2018 and 2019. The uniform columns allow us to aggregate each year's happiness report into a single dataframe."
      ]
    },
    {
      "cell_type": "code",
      "metadata": {
        "id": "Dxux_cUeXa0A"
      },
      "source": [
        "# 2015\n",
        "column_reorder_2015 = ['Happiness Rank', 'Country', 'Happiness Score', 'Economy (GDP per Capita)', 'Family', 'Health (Life Expectancy)',\n",
        "                       'Freedom', 'Trust (Government Corruption)', 'Generosity', 'Year']\n",
        "format_2015_to_2019 = hp_2015[column_reorder_2015]\n",
        "format_2015_to_2019.columns = hp_2019.columns\n",
        "\n",
        "# 2016\n",
        "column_reorder_2016 = ['Happiness Rank', 'Country', 'Happiness Score', 'Economy (GDP per Capita)', 'Family', 'Health (Life Expectancy)',\n",
        "                       'Freedom', 'Trust (Government Corruption)', 'Generosity', 'Year']\n",
        "format_2016_to_2019 = hp_2016[column_reorder_2016]\n",
        "format_2016_to_2019.columns = hp_2019.columns\n",
        "\n",
        "# 2017\n",
        "column_reorder_2017 = ['Happiness.Rank', 'Country', 'Happiness.Score', 'Economy..GDP.per.Capita.', 'Family',  'Health..Life.Expectancy.',\n",
        "                       'Freedom', 'Generosity', 'Trust..Government.Corruption.', 'Year']\n",
        "format_2017_to_2019 = hp_2017[column_reorder_2017]\n",
        "format_2017_to_2019.columns = hp_2019.columns"
      ],
      "execution_count": 218,
      "outputs": []
    },
    {
      "cell_type": "code",
      "metadata": {
        "id": "R4j4L8PAcnqZ"
      },
      "source": [
        "# Aggregating \n",
        "happiness_15_19 = hp_2019.append(hp_2018, ignore_index=True).append(format_2017_to_2019, ignore_index=True).append(format_2016_to_2019, ignore_index=True)\n",
        "happiness_15_19 = happiness_15_19.append(format_2015_to_2019, ignore_index=True)"
      ],
      "execution_count": 219,
      "outputs": []
    },
    {
      "cell_type": "code",
      "metadata": {
        "colab": {
          "base_uri": "https://localhost:8080/"
        },
        "id": "XT4UxqnSYXNR",
        "outputId": "d64092fb-caa2-4f1b-b5cb-51fa0eacdf07"
      },
      "source": [
        "# Checking for countries not represented in all 5 years of data\n",
        "country_counts = happiness_15_19.groupby('Country or region').count()\n",
        "sparse_countries = country_counts[country_counts['Overall rank'] < 5]['Overall rank'].sort_values(ascending=False)\n",
        "sparse_countries"
      ],
      "execution_count": 220,
      "outputs": [
        {
          "output_type": "execute_result",
          "data": {
            "text/plain": [
              "Country or region\n",
              "Angola                      4\n",
              "Taiwan                      4\n",
              "Central African Republic    4\n",
              "Sudan                       4\n",
              "South Sudan                 4\n",
              "Hong Kong                   4\n",
              "Laos                        4\n",
              "Somalia                     4\n",
              "Lesotho                     4\n",
              "Macedonia                   4\n",
              "Mozambique                  4\n",
              "Namibia                     4\n",
              "North Cyprus                3\n",
              "Belize                      3\n",
              "Comoros                     3\n",
              "Trinidad and Tobago         3\n",
              "Trinidad & Tobago           2\n",
              "Northern Cyprus             2\n",
              "Suriname                    2\n",
              "Swaziland                   2\n",
              "Oman                        1\n",
              "Puerto Rico                 1\n",
              "Somaliland Region           1\n",
              "Hong Kong S.A.R., China     1\n",
              "Somaliland region           1\n",
              "Gambia                      1\n",
              "Djibouti                    1\n",
              "Taiwan Province of China    1\n",
              "North Macedonia             1\n",
              "Name: Overall rank, dtype: int64"
            ]
          },
          "metadata": {
            "tags": []
          },
          "execution_count": 220
        }
      ]
    },
    {
      "cell_type": "markdown",
      "metadata": {
        "id": "LxOmpcoiEtFC"
      },
      "source": [
        "We want to consolidate our data to represent only the countries that are present in all 5 files. Some of the above output represent the same country but are formatted differently:\n",
        "- 'Taiwan Province of China' and 'Taiwan'\n",
        "- 'Trinidad and Tobago' and 'Trinidad & Tobago'\n",
        "- 'North Cyprus' and 'Northern Cyprus'\n",
        "- 'Hong Kong' and 'Hong Kong S.A.R., China'\n",
        "- 'Somalia' and 'Somaliland region'\n",
        "- 'Macedonia' and 'North Macedonia'\n",
        "\n",
        "We will to fix these 6 country formats manually. Then we will remove any other countries that are not represented in all 5 files."
      ]
    },
    {
      "cell_type": "code",
      "metadata": {
        "id": "5elhTQ0Ahov4"
      },
      "source": [
        "# Replacing 'Taiwan Province of China' with 'Taiwan'\n",
        "happiness_15_19['Country or region'] = ['Taiwan' if country=='Taiwan Province of China' else country for country in happiness_15_19['Country or region']]\n",
        "\n",
        "# Replacing 'Trinidad & Tobago' with 'Trinidad and Tobago'\n",
        "happiness_15_19['Country or region'] = ['Trinidad and Tobago' if country=='Trinidad & Tobago' else country for country in happiness_15_19['Country or region']]\n",
        "\n",
        "# Replacing 'Northern Cyprus' with 'North Cyprus'\n",
        "happiness_15_19['Country or region'] = ['North Cyprus' if country=='Northern Cyprus' else country for country in happiness_15_19['Country or region']]\n",
        "\n",
        "# Replacing 'Hong Kong S.A.R., China' with 'Hong Kong'\n",
        "happiness_15_19['Country or region'] = ['Hong Kong' if country=='Hong Kong S.A.R., China' else country for country in happiness_15_19['Country or region']]\n",
        "\n",
        "# Replacing 'Somaliland region' with 'Somalia'\n",
        "happiness_15_19['Country or region'] = ['Somalia' if country=='Somaliland region' else country for country in happiness_15_19['Country or region']]\n",
        "\n",
        "# Replacing 'Noth Macedonia' with 'Macedonia'\n",
        "happiness_15_19['Country or region'] = ['Macedonia' if country=='North Macedonia' else country for country in happiness_15_19['Country or region']]\n",
        "\n",
        "# Making a list of countries not represented in all years\n",
        "country_counts = happiness_15_19.groupby('Country or region').count()\n",
        "remaining_sparse_countries = country_counts[country_counts['Overall rank'] < 5]['Overall rank'].sort_values(ascending=False)\n",
        "\n",
        "# Removing countries not represented in all years\n",
        "mask_remove_sparse = [False if country in remaining_sparse_countries.index.values else True for country in happiness_15_19['Country or region']]\n",
        "happiness_15_19 = happiness_15_19[mask_remove_sparse]"
      ],
      "execution_count": 221,
      "outputs": []
    },
    {
      "cell_type": "markdown",
      "metadata": {
        "id": "R6B_DjFO4_tb"
      },
      "source": [
        "We have combined the five world happiness report datasets into a cohesive and data-dense set, dropping around 15 countries in aggregation that were not represented by all 5 reports."
      ]
    },
    {
      "cell_type": "markdown",
      "metadata": {
        "id": "sh9TAVUqYLvN"
      },
      "source": [
        "## 1.2 Combining the World Development Indicators and World Happiness Reports \n",
        "\n",
        "We begin by creating a comprehensive list of the countries in WDI dataset and WHR, fixing the format of both the WDI and the WHR datasets. Then, we reformat each of the files and aggregate them into a single, cohesive file."
      ]
    },
    {
      "cell_type": "markdown",
      "metadata": {
        "id": "lBVsWdDH_GxG"
      },
      "source": [
        "### 1.2.1 Finalizing List of Countries and Their Rank\n",
        "\n",
        "We will create a list of all countries that are represented in both the 'happiness_15_19' dataframe and the world development indicators dataset. We then query our WDI and happiness dataframes to contain only the countries in our country list."
      ]
    },
    {
      "cell_type": "code",
      "metadata": {
        "colab": {
          "base_uri": "https://localhost:8080/"
        },
        "id": "TYF7juukYmo-",
        "outputId": "30785d54-88df-4a52-aea4-292fdc06e18f"
      },
      "source": [
        "# In happiness and not in wdi\n",
        "missing_from_happiness_data = []\n",
        "for country in happiness_15_19['Country or region'].unique():\n",
        "  if country not in wdi_data['Country Name'].unique():\n",
        "    missing_from_happiness_data.append(country)\n",
        "\n",
        "\n",
        "# In wdi and not in happiness\n",
        "missing_from_wdi_data = []\n",
        "for country in wdi_data['Country Name'].unique():\n",
        "  if country not in happiness_15_19['Country or region'].unique():\n",
        "    missing_from_wdi_data.append(country)\n",
        "\n",
        "print(\"The number of missing countries from aggregated happiness dataset is\", len(missing_from_happiness_data))\n",
        "print(missing_from_happiness_data)\n",
        "\n",
        "print('\\n\\nThe number of missing countries from wdi data is', len(missing_from_wdi_data))\n",
        "print(missing_from_wdi_data)"
      ],
      "execution_count": 222,
      "outputs": [
        {
          "output_type": "stream",
          "text": [
            "The number of missing countries from aggregated happiness dataset is 17\n",
            "['Taiwan', 'Slovakia', 'South Korea', 'North Cyprus', 'Russia', 'Hong Kong', 'Macedonia', 'Kyrgyzstan', 'Ivory Coast', 'Congo (Brazzaville)', 'Venezuela', 'Palestinian Territories', 'Iran', 'Congo (Kinshasa)', 'Egypt', 'Syria', 'Yemen']\n",
            "\n",
            "\n",
            "The number of missing countries from wdi data is 90\n",
            "['American Samoa', 'Andorra', 'Angola', 'Antigua and Barbuda', 'Aruba', 'Bahamas, The', 'Barbados', 'Belize', 'Bermuda', 'British Virgin Islands', 'Brunei Darussalam', 'Cabo Verde', 'Cayman Islands', 'Central African Republic', 'Channel Islands', 'Comoros', 'Congo, Dem. Rep.', 'Congo, Rep.', \"Cote d'Ivoire\", 'Cuba', 'Curacao', 'Djibouti', 'Dominica', 'Egypt, Arab Rep.', 'Equatorial Guinea', 'Eritrea', 'Eswatini', 'Faroe Islands', 'Fiji', 'French Polynesia', 'Gambia, The', 'Gibraltar', 'Greenland', 'Grenada', 'Guam', 'Guinea-Bissau', 'Guyana', 'Hong Kong SAR, China', 'Iran, Islamic Rep.', 'Isle of Man', 'Kiribati', \"Korea, Dem. People's Rep.\", 'Korea, Rep.', 'Kyrgyz Republic', 'Lao PDR', 'Lesotho', 'Liechtenstein', 'Macao SAR, China', 'Maldives', 'Marshall Islands', 'Micronesia, Fed. Sts.', 'Monaco', 'Mozambique', 'Namibia', 'Nauru', 'New Caledonia', 'North Macedonia', 'Northern Mariana Islands', 'Oman', 'Palau', 'Papua New Guinea', 'Puerto Rico', 'Russian Federation', 'Samoa', 'San Marino', 'Sao Tome and Principe', 'Seychelles', 'Sint Maarten (Dutch part)', 'Slovak Republic', 'Solomon Islands', 'South Sudan', 'St. Kitts and Nevis', 'St. Lucia', 'St. Martin (French part)', 'St. Vincent and the Grenadines', 'Sudan', 'Suriname', 'Syrian Arab Republic', 'Timor-Leste', 'Tonga', 'Turks and Caicos Islands', 'Tuvalu', 'Vanuatu', 'Venezuela, RB', 'Virgin Islands (U.S.)', 'West Bank and Gaza', 'Yemen, Rep.', nan, 'Data from database: World Development Indicators', 'Last Updated: 04/26/2021']\n"
          ],
          "name": "stdout"
        }
      ]
    },
    {
      "cell_type": "markdown",
      "metadata": {
        "id": "dHnd1vPhbcJP"
      },
      "source": [
        "To maximize the number of countries in our final dataset, we will manually match countries that are formatted differently.\n",
        "\n",
        "This includes 14 matching countries:\n",
        "- 'Slovakia' and 'Slovak Republic'\n",
        "- 'South Korea' and 'Korea, Rep.' (Not to be confused with North Korea)\n",
        "- 'Russia' and 'Russian Federation'\n",
        "- 'Hong Kong' and 'Hong Kong SAR, China'\n",
        "- 'Macedonia' and 'North Macedonia'\n",
        "- 'Kyrgyzstan' and 'Kyrgyz Republic'\n",
        "- 'Ivory Coast' and 'Cote d'Ivoire'\n",
        "- 'Congo (Brazzaville)' and 'Congo, Rep.'\n",
        "- 'Venezuela' and 'Venezuela, RB'\n",
        "- 'Iran' and 'Iran, Islamic Rep.'\n",
        "- 'Congo (Kinshasa)' and 'Congo, Dem. Rep.'\n",
        "- 'Egypt' and 'Egypt, Arab Rep.'\n",
        "- 'Syria' and 'Syrian Arab Republic'\n",
        "- 'Yemen' and 'Yemen, Rep.'"
      ]
    },
    {
      "cell_type": "code",
      "metadata": {
        "id": "_04zs3-UamqU",
        "colab": {
          "base_uri": "https://localhost:8080/"
        },
        "outputId": "280cbb8f-2fc4-4eb1-d4a9-d430dc5085f7"
      },
      "source": [
        "# Creating a dictionary to match wdi country format to happiness country format \n",
        "match_happiness_wdi = {'Slovakia' : 'Slovak Republic', 'South Korea' : 'Korea, Rep.', 'Russia' : 'Russian Federation', 'Hong Kong' : 'Hong Kong SAR, China',\n",
        "                       'Macedonia' : 'North Macedonia', 'Kyrgyzstan' : 'Kyrgyz Republic', 'Ivory Coast' : '''Cote d'Ivoire''', 'Congo (Brazzaville)' : 'Congo, Rep.',\n",
        "                       'Venezuela' : 'Venezuela, RB', 'Iran' : 'Iran, Islamic Rep.', 'Congo (Kinshasa)' : 'Congo, Dem. Rep.', 'Egypt' : 'Egypt, Arab Rep.', \n",
        "                       'Syria' : 'Syrian Arab Republic', 'Yemen' : 'Yemen, Rep.'}\n",
        "\n",
        "# Reverse (key, value) pair order\n",
        "match_happiness_wdi = dict(map(reversed, match_happiness_wdi.items()))\n",
        "\n",
        "# Change wdi country format to happiness country format  \n",
        "wdi_data = wdi_data.replace({'Country Name': match_happiness_wdi})\n",
        "\n",
        "# Creating a final list of countries represented in both happiness and wdi dataframes\n",
        "final_country_set = set(wdi_data['Country Name'].unique()) & set(happiness_15_19['Country or region'].unique())\n",
        "len(final_country_set)"
      ],
      "execution_count": 223,
      "outputs": [
        {
          "output_type": "execute_result",
          "data": {
            "text/plain": [
              "144"
            ]
          },
          "metadata": {
            "tags": []
          },
          "execution_count": 223
        }
      ]
    },
    {
      "cell_type": "code",
      "metadata": {
        "id": "QowWDni9ZVnv",
        "colab": {
          "base_uri": "https://localhost:8080/"
        },
        "outputId": "33c8c712-cbbd-4f79-8b7e-607b50f6cd69"
      },
      "source": [
        "# Querying the wdi data for the matching 144 countries\n",
        "wdi_data = wdi_data[wdi_data['Country Name'].isin(final_country_set)]\n",
        "\n",
        "# Querying the happiness data for the matching 144 countries\n",
        "happiness_15_19 = happiness_15_19[happiness_15_19['Country or region'].isin(final_country_set)]\n",
        "\n",
        "# Check if country formats between the two datasets match\n",
        "(wdi_data['Country Name'].sort_values().unique() == happiness_15_19['Country or region'].sort_values().unique()).all()"
      ],
      "execution_count": 224,
      "outputs": [
        {
          "output_type": "execute_result",
          "data": {
            "text/plain": [
              "True"
            ]
          },
          "metadata": {
            "tags": []
          },
          "execution_count": 224
        }
      ]
    },
    {
      "cell_type": "markdown",
      "metadata": {
        "id": "El-KAWbyRScA"
      },
      "source": [
        "Next, we will fix the happiness rankings in the 'happiness_15_19' dataframe, because the **'Overall rank' field represents the wrong list of countries**, and we want it to represent the 144 countries in the 'final_country_set' object."
      ]
    },
    {
      "cell_type": "code",
      "metadata": {
        "colab": {
          "base_uri": "https://localhost:8080/"
        },
        "id": "hVUFeIhsPgMn",
        "outputId": "a763539d-8b33-4e2b-bc1c-6cd5aef9c8f1"
      },
      "source": [
        "# Here we see that rankings go from 1 to 158, when there are only 144 unique countries\n",
        "print('Number of Unique Rankings is:', len(happiness_15_19['Overall rank'].unique()))"
      ],
      "execution_count": 226,
      "outputs": [
        {
          "output_type": "stream",
          "text": [
            "Number of Unique Rankings is: 158\n"
          ],
          "name": "stdout"
        }
      ]
    },
    {
      "cell_type": "code",
      "metadata": {
        "colab": {
          "base_uri": "https://localhost:8080/"
        },
        "id": "SIDa8iNkh-Bz",
        "outputId": "eb607865-afe7-4f49-c9bc-66f31fa1be3b"
      },
      "source": [
        "# Change the rank to be from 1 to 144 for each year\n",
        "happiness_temp = pd.DataFrame(columns=happiness_15_19.columns)\n",
        "\n",
        "for year in happiness_15_19['Year'].unique():\n",
        "  temp_year_df = happiness_15_19[happiness_15_19['Year']==year].sort_values(by='Overall rank')\n",
        "  temp_year_df['Overall rank'] = range(1,len(temp_year_df['Overall rank'])+1)\n",
        "  happiness_temp = pd.concat([happiness_temp, temp_year_df], axis=0)\n",
        "  \n",
        "happiness_15_19 = happiness_temp\n",
        "\n",
        "# Now the rankings go from 1 to 144\n",
        "print('Number of Unique Rankings is:', len(happiness_15_19['Overall rank'].unique()))"
      ],
      "execution_count": 227,
      "outputs": [
        {
          "output_type": "stream",
          "text": [
            "Number of Unique Rankings is: 144\n"
          ],
          "name": "stdout"
        }
      ]
    },
    {
      "cell_type": "markdown",
      "metadata": {
        "id": "Bi8EiALyOPao"
      },
      "source": [
        "We see that the countries in the two dataframes 'wdi_data' and 'happiness_15_19' have the same remaining countries, and 'happiness_15_19' has the country ranks ordered correctly.\n",
        "\n",
        "### 1.2.2 Reformat Happiness Data to Match WDI Fields\n",
        "The two dataframes 'wdi_data' and 'happiness_15_19' have different columns. Here we will reformat 'happiness_15_19' to have the same column format of 'wdi_data'."
      ]
    },
    {
      "cell_type": "code",
      "metadata": {
        "colab": {
          "base_uri": "https://localhost:8080/",
          "height": 111
        },
        "id": "QUdwjpjwk5ek",
        "outputId": "07cd27a4-fb62-4ace-cf27-da9953458a08"
      },
      "source": [
        "# This is our desired format\n",
        "wdi_data.head(2)"
      ],
      "execution_count": 228,
      "outputs": [
        {
          "output_type": "execute_result",
          "data": {
            "text/html": [
              "<div>\n",
              "<style scoped>\n",
              "    .dataframe tbody tr th:only-of-type {\n",
              "        vertical-align: middle;\n",
              "    }\n",
              "\n",
              "    .dataframe tbody tr th {\n",
              "        vertical-align: top;\n",
              "    }\n",
              "\n",
              "    .dataframe thead th {\n",
              "        text-align: right;\n",
              "    }\n",
              "</style>\n",
              "<table border=\"1\" class=\"dataframe\">\n",
              "  <thead>\n",
              "    <tr style=\"text-align: right;\">\n",
              "      <th></th>\n",
              "      <th>Country Name</th>\n",
              "      <th>Country Code</th>\n",
              "      <th>Series Name</th>\n",
              "      <th>Series Code</th>\n",
              "      <th>2015 [YR2015]</th>\n",
              "      <th>2016 [YR2016]</th>\n",
              "      <th>2017 [YR2017]</th>\n",
              "      <th>2018 [YR2018]</th>\n",
              "      <th>2019 [YR2019]</th>\n",
              "    </tr>\n",
              "  </thead>\n",
              "  <tbody>\n",
              "    <tr>\n",
              "      <th>0</th>\n",
              "      <td>United States</td>\n",
              "      <td>USA</td>\n",
              "      <td>Access to clean fuels and technologies for coo...</td>\n",
              "      <td>EG.CFT.ACCS.ZS</td>\n",
              "      <td>100</td>\n",
              "      <td>100</td>\n",
              "      <td>..</td>\n",
              "      <td>..</td>\n",
              "      <td>..</td>\n",
              "    </tr>\n",
              "    <tr>\n",
              "      <th>1</th>\n",
              "      <td>United States</td>\n",
              "      <td>USA</td>\n",
              "      <td>Access to electricity (% of population)</td>\n",
              "      <td>EG.ELC.ACCS.ZS</td>\n",
              "      <td>100</td>\n",
              "      <td>100</td>\n",
              "      <td>100</td>\n",
              "      <td>100</td>\n",
              "      <td>..</td>\n",
              "    </tr>\n",
              "  </tbody>\n",
              "</table>\n",
              "</div>"
            ],
            "text/plain": [
              "    Country Name Country Code  ... 2018 [YR2018] 2019 [YR2019]\n",
              "0  United States          USA  ...            ..            ..\n",
              "1  United States          USA  ...           100            ..\n",
              "\n",
              "[2 rows x 9 columns]"
            ]
          },
          "metadata": {
            "tags": []
          },
          "execution_count": 228
        }
      ]
    },
    {
      "cell_type": "code",
      "metadata": {
        "id": "qYtbaGwIHzE_",
        "outputId": "6a21e482-0d7c-4a14-d1f3-1a046b50d97a",
        "colab": {
          "base_uri": "https://localhost:8080/",
          "height": 111
        }
      },
      "source": [
        "# This is our current format\n",
        "happiness_15_19.head(2)"
      ],
      "execution_count": 229,
      "outputs": [
        {
          "output_type": "execute_result",
          "data": {
            "text/html": [
              "<div>\n",
              "<style scoped>\n",
              "    .dataframe tbody tr th:only-of-type {\n",
              "        vertical-align: middle;\n",
              "    }\n",
              "\n",
              "    .dataframe tbody tr th {\n",
              "        vertical-align: top;\n",
              "    }\n",
              "\n",
              "    .dataframe thead th {\n",
              "        text-align: right;\n",
              "    }\n",
              "</style>\n",
              "<table border=\"1\" class=\"dataframe\">\n",
              "  <thead>\n",
              "    <tr style=\"text-align: right;\">\n",
              "      <th></th>\n",
              "      <th>Overall rank</th>\n",
              "      <th>Country or region</th>\n",
              "      <th>Score</th>\n",
              "      <th>GDP per capita</th>\n",
              "      <th>Social support</th>\n",
              "      <th>Healthy life expectancy</th>\n",
              "      <th>Freedom to make life choices</th>\n",
              "      <th>Generosity</th>\n",
              "      <th>Perceptions of corruption</th>\n",
              "      <th>Year</th>\n",
              "    </tr>\n",
              "  </thead>\n",
              "  <tbody>\n",
              "    <tr>\n",
              "      <th>0</th>\n",
              "      <td>1</td>\n",
              "      <td>Finland</td>\n",
              "      <td>7.769</td>\n",
              "      <td>1.340</td>\n",
              "      <td>1.587</td>\n",
              "      <td>0.986</td>\n",
              "      <td>0.596</td>\n",
              "      <td>0.153</td>\n",
              "      <td>0.393</td>\n",
              "      <td>2019</td>\n",
              "    </tr>\n",
              "    <tr>\n",
              "      <th>1</th>\n",
              "      <td>2</td>\n",
              "      <td>Denmark</td>\n",
              "      <td>7.600</td>\n",
              "      <td>1.383</td>\n",
              "      <td>1.573</td>\n",
              "      <td>0.996</td>\n",
              "      <td>0.592</td>\n",
              "      <td>0.252</td>\n",
              "      <td>0.410</td>\n",
              "      <td>2019</td>\n",
              "    </tr>\n",
              "  </tbody>\n",
              "</table>\n",
              "</div>"
            ],
            "text/plain": [
              "  Overall rank Country or region  ...  Perceptions of corruption  Year\n",
              "0            1           Finland  ...                      0.393  2019\n",
              "1            2           Denmark  ...                      0.410  2019\n",
              "\n",
              "[2 rows x 10 columns]"
            ]
          },
          "metadata": {
            "tags": []
          },
          "execution_count": 229
        }
      ]
    },
    {
      "cell_type": "code",
      "metadata": {
        "colab": {
          "base_uri": "https://localhost:8080/",
          "height": 204
        },
        "id": "d-letxxeqRIY",
        "outputId": "c94ceb79-6011-43e5-e623-9ce969bae0f4"
      },
      "source": [
        "# Changing indicies and columsn in 'happiness_15_19' to look more like 'wdi_data'\n",
        "happ_interim = happiness_15_19.set_index(['Country or region', 'Year']).unstack().stack(level = 0).reset_index()\n",
        "happ_interim.head()\n",
        "\n",
        "# Add 'Series Code' column\n",
        "happ_interim['Series Code'] = 'HAPPINESS.REPORT.' + happ_interim['level_1'].str.split().str[0].str.upper()\n",
        "\n",
        "# Add 'Country Code' column\n",
        "country_code_dict = pd.Series(wdi_data['Country Code'].values,index=wdi_data['Country Name'].values).to_dict()\n",
        "happ_interim['Country Code'] = happ_interim['Country or region'].map(country_code_dict)\n",
        "\n",
        "# Reorder columns to match wdi\n",
        "order = ['Country or region', 'Country Code', 'level_1', 'Series Code', 2015, 2016, 2017, 2018, 2019]\n",
        "happ_interim = happ_interim[order]\n",
        "\n",
        "# Add the same columns\n",
        "happ_interim.columns = wdi_data.columns\n",
        "\n",
        "# Output format matches that of wdi_data\n",
        "happ_interim.head()"
      ],
      "execution_count": 230,
      "outputs": [
        {
          "output_type": "execute_result",
          "data": {
            "text/html": [
              "<div>\n",
              "<style scoped>\n",
              "    .dataframe tbody tr th:only-of-type {\n",
              "        vertical-align: middle;\n",
              "    }\n",
              "\n",
              "    .dataframe tbody tr th {\n",
              "        vertical-align: top;\n",
              "    }\n",
              "\n",
              "    .dataframe thead th {\n",
              "        text-align: right;\n",
              "    }\n",
              "</style>\n",
              "<table border=\"1\" class=\"dataframe\">\n",
              "  <thead>\n",
              "    <tr style=\"text-align: right;\">\n",
              "      <th></th>\n",
              "      <th>Country Name</th>\n",
              "      <th>Country Code</th>\n",
              "      <th>Series Name</th>\n",
              "      <th>Series Code</th>\n",
              "      <th>2015 [YR2015]</th>\n",
              "      <th>2016 [YR2016]</th>\n",
              "      <th>2017 [YR2017]</th>\n",
              "      <th>2018 [YR2018]</th>\n",
              "      <th>2019 [YR2019]</th>\n",
              "    </tr>\n",
              "  </thead>\n",
              "  <tbody>\n",
              "    <tr>\n",
              "      <th>0</th>\n",
              "      <td>Afghanistan</td>\n",
              "      <td>AFG</td>\n",
              "      <td>Freedom to make life choices</td>\n",
              "      <td>HAPPINESS.REPORT.FREEDOM</td>\n",
              "      <td>0.23414</td>\n",
              "      <td>0.1643</td>\n",
              "      <td>0.10618</td>\n",
              "      <td>0.085</td>\n",
              "      <td>0</td>\n",
              "    </tr>\n",
              "    <tr>\n",
              "      <th>1</th>\n",
              "      <td>Afghanistan</td>\n",
              "      <td>AFG</td>\n",
              "      <td>GDP per capita</td>\n",
              "      <td>HAPPINESS.REPORT.GDP</td>\n",
              "      <td>0.31982</td>\n",
              "      <td>0.38227</td>\n",
              "      <td>0.401477</td>\n",
              "      <td>0.332</td>\n",
              "      <td>0.35</td>\n",
              "    </tr>\n",
              "    <tr>\n",
              "      <th>2</th>\n",
              "      <td>Afghanistan</td>\n",
              "      <td>AFG</td>\n",
              "      <td>Generosity</td>\n",
              "      <td>HAPPINESS.REPORT.GENEROSITY</td>\n",
              "      <td>0.09719</td>\n",
              "      <td>0.07112</td>\n",
              "      <td>0.311871</td>\n",
              "      <td>0.191</td>\n",
              "      <td>0.158</td>\n",
              "    </tr>\n",
              "    <tr>\n",
              "      <th>3</th>\n",
              "      <td>Afghanistan</td>\n",
              "      <td>AFG</td>\n",
              "      <td>Healthy life expectancy</td>\n",
              "      <td>HAPPINESS.REPORT.HEALTHY</td>\n",
              "      <td>0.30335</td>\n",
              "      <td>0.17344</td>\n",
              "      <td>0.180747</td>\n",
              "      <td>0.255</td>\n",
              "      <td>0.361</td>\n",
              "    </tr>\n",
              "    <tr>\n",
              "      <th>4</th>\n",
              "      <td>Afghanistan</td>\n",
              "      <td>AFG</td>\n",
              "      <td>Overall rank</td>\n",
              "      <td>HAPPINESS.REPORT.OVERALL</td>\n",
              "      <td>139</td>\n",
              "      <td>141</td>\n",
              "      <td>132</td>\n",
              "      <td>135</td>\n",
              "      <td>144</td>\n",
              "    </tr>\n",
              "  </tbody>\n",
              "</table>\n",
              "</div>"
            ],
            "text/plain": [
              "  Country Name Country Code  ... 2018 [YR2018] 2019 [YR2019]\n",
              "0  Afghanistan          AFG  ...         0.085             0\n",
              "1  Afghanistan          AFG  ...         0.332          0.35\n",
              "2  Afghanistan          AFG  ...         0.191         0.158\n",
              "3  Afghanistan          AFG  ...         0.255         0.361\n",
              "4  Afghanistan          AFG  ...           135           144\n",
              "\n",
              "[5 rows x 9 columns]"
            ]
          },
          "metadata": {
            "tags": []
          },
          "execution_count": 230
        }
      ]
    },
    {
      "cell_type": "markdown",
      "metadata": {
        "id": "TLMTJW7XQ9ia"
      },
      "source": [
        "### 1.2.3 Aggregating and Cleaning The Final Dataset"
      ]
    },
    {
      "cell_type": "code",
      "metadata": {
        "id": "4JPalAsBxSdd",
        "colab": {
          "base_uri": "https://localhost:8080/",
          "height": 221
        },
        "outputId": "26688ef2-2bbd-454b-a043-74a5f689c355"
      },
      "source": [
        "# Aggregating the two datasets\n",
        "wdi_happiness = pd.concat([wdi_data, happ_interim], axis=0, ignore_index=True)#.sort_values(by=['Country Name','Series Name'])\n",
        "\n",
        "# Fixing format of year column titles\n",
        "fix_year_dict = {'2015 [YR2015]':'2015', '2016 [YR2016]':'2016', '2017 [YR2017]':'2017', '2018 [YR2018]':'2018', '2019 [YR2019]':'2019'}\n",
        "wdi_happiness = wdi_happiness.rename(columns = fix_year_dict)\n",
        "\n",
        "# Final check that wdi_happiness contains the happiness report data and printing output\n",
        "print('''Contains 'overall rank' field:''', wdi_happiness['Series Code'].str.contains('HAPPINESS.REPORT.OVERALL').any())\n",
        "wdi_happiness.head()"
      ],
      "execution_count": 231,
      "outputs": [
        {
          "output_type": "stream",
          "text": [
            "Contains 'overall rank' field: True\n"
          ],
          "name": "stdout"
        },
        {
          "output_type": "execute_result",
          "data": {
            "text/html": [
              "<div>\n",
              "<style scoped>\n",
              "    .dataframe tbody tr th:only-of-type {\n",
              "        vertical-align: middle;\n",
              "    }\n",
              "\n",
              "    .dataframe tbody tr th {\n",
              "        vertical-align: top;\n",
              "    }\n",
              "\n",
              "    .dataframe thead th {\n",
              "        text-align: right;\n",
              "    }\n",
              "</style>\n",
              "<table border=\"1\" class=\"dataframe\">\n",
              "  <thead>\n",
              "    <tr style=\"text-align: right;\">\n",
              "      <th></th>\n",
              "      <th>Country Name</th>\n",
              "      <th>Country Code</th>\n",
              "      <th>Series Name</th>\n",
              "      <th>Series Code</th>\n",
              "      <th>2015</th>\n",
              "      <th>2016</th>\n",
              "      <th>2017</th>\n",
              "      <th>2018</th>\n",
              "      <th>2019</th>\n",
              "    </tr>\n",
              "  </thead>\n",
              "  <tbody>\n",
              "    <tr>\n",
              "      <th>0</th>\n",
              "      <td>United States</td>\n",
              "      <td>USA</td>\n",
              "      <td>Access to clean fuels and technologies for coo...</td>\n",
              "      <td>EG.CFT.ACCS.ZS</td>\n",
              "      <td>100</td>\n",
              "      <td>100</td>\n",
              "      <td>..</td>\n",
              "      <td>..</td>\n",
              "      <td>..</td>\n",
              "    </tr>\n",
              "    <tr>\n",
              "      <th>1</th>\n",
              "      <td>United States</td>\n",
              "      <td>USA</td>\n",
              "      <td>Access to electricity (% of population)</td>\n",
              "      <td>EG.ELC.ACCS.ZS</td>\n",
              "      <td>100</td>\n",
              "      <td>100</td>\n",
              "      <td>100</td>\n",
              "      <td>100</td>\n",
              "      <td>..</td>\n",
              "    </tr>\n",
              "    <tr>\n",
              "      <th>2</th>\n",
              "      <td>United States</td>\n",
              "      <td>USA</td>\n",
              "      <td>Access to electricity, rural (% of rural popul...</td>\n",
              "      <td>EG.ELC.ACCS.RU.ZS</td>\n",
              "      <td>100</td>\n",
              "      <td>100</td>\n",
              "      <td>100</td>\n",
              "      <td>100</td>\n",
              "      <td>..</td>\n",
              "    </tr>\n",
              "    <tr>\n",
              "      <th>3</th>\n",
              "      <td>United States</td>\n",
              "      <td>USA</td>\n",
              "      <td>Access to electricity, urban (% of urban popul...</td>\n",
              "      <td>EG.ELC.ACCS.UR.ZS</td>\n",
              "      <td>100</td>\n",
              "      <td>100</td>\n",
              "      <td>100</td>\n",
              "      <td>100</td>\n",
              "      <td>..</td>\n",
              "    </tr>\n",
              "    <tr>\n",
              "      <th>4</th>\n",
              "      <td>United States</td>\n",
              "      <td>USA</td>\n",
              "      <td>Account ownership at a financial institution o...</td>\n",
              "      <td>FX.OWN.TOTL.ZS</td>\n",
              "      <td>..</td>\n",
              "      <td>..</td>\n",
              "      <td>93.1222</td>\n",
              "      <td>..</td>\n",
              "      <td>..</td>\n",
              "    </tr>\n",
              "  </tbody>\n",
              "</table>\n",
              "</div>"
            ],
            "text/plain": [
              "    Country Name Country Code  ... 2018 2019\n",
              "0  United States          USA  ...   ..   ..\n",
              "1  United States          USA  ...  100   ..\n",
              "2  United States          USA  ...  100   ..\n",
              "3  United States          USA  ...  100   ..\n",
              "4  United States          USA  ...   ..   ..\n",
              "\n",
              "[5 rows x 9 columns]"
            ]
          },
          "metadata": {
            "tags": []
          },
          "execution_count": 231
        }
      ]
    },
    {
      "cell_type": "markdown",
      "metadata": {
        "id": "pEF7Z3Z4mTut"
      },
      "source": [
        "## 1.3 Outputting the Data\n",
        "Now, we will output 3 files as CSVs\n",
        "- wdi_happiness (both wdi data and happiness data)\n",
        "- wdi_formatted (wdi data only)\n",
        "- happiness_formatted (happiness data only)"
      ]
    },
    {
      "cell_type": "code",
      "metadata": {
        "id": "gRgwv14nmY5v"
      },
      "source": [
        "wdi_happiness.to_csv(r'wdi_happiness.csv', index = False, header=True)\n",
        "wdi_data.to_csv(r'wdi_formatted.csv', index = False, header=True)\n",
        "happ_interim.to_csv(r'happiness_formatted.csv', index = False, header=True)"
      ],
      "execution_count": 232,
      "outputs": []
    },
    {
      "cell_type": "code",
      "metadata": {
        "id": "ZVldF750AmOB"
      },
      "source": [
        ""
      ],
      "execution_count": 187,
      "outputs": []
    }
  ]
}