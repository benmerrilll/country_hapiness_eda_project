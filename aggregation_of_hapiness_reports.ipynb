{
  "nbformat": 4,
  "nbformat_minor": 0,
  "metadata": {
    "colab": {
      "name": "aggregation_of_hapiness_reports.ipynb",
      "provenance": []
    },
    "kernelspec": {
      "name": "python3",
      "display_name": "Python 3"
    },
    "language_info": {
      "name": "python"
    }
  },
  "cells": [
    {
      "cell_type": "markdown",
      "metadata": {
        "id": "WQM2gegRSlAU"
      },
      "source": [
        "### Aggregation\n",
        "Sources: https://www.kaggle.com/unsdsn/world-happiness"
      ]
    },
    {
      "cell_type": "markdown",
      "metadata": {
        "id": "NyCAM95xS4ne"
      },
      "source": [
        "## Importing the libraries and data"
      ]
    },
    {
      "cell_type": "code",
      "metadata": {
        "id": "oX4S64UcPSxO"
      },
      "source": [
        "import pandas as pd\n",
        "import numpy as np "
      ],
      "execution_count": 1,
      "outputs": []
    },
    {
      "cell_type": "code",
      "metadata": {
        "id": "Wq9U6q_-TUli"
      },
      "source": [
        "hp_2015 = pd.read_csv('2015.csv')\n",
        "hp_2016 = pd.read_csv('2016.csv')\n",
        "hp_2017 = pd.read_csv('2017.csv')\n",
        "hp_2018 = pd.read_csv('2018.csv')\n",
        "hp_2019 = pd.read_csv('2019.csv') "
      ],
      "execution_count": 18,
      "outputs": []
    },
    {
      "cell_type": "code",
      "metadata": {
        "id": "Bmtobd1CevC8"
      },
      "source": [
        "# Let's add a year column to each file to help identify it\n",
        "hp_2015['Year'] = 2015\n",
        "hp_2016['Year'] = 2016\n",
        "hp_2017['Year'] = 2017\n",
        "hp_2018['Year'] = 2018\n",
        "hp_2019['Year'] = 2019"
      ],
      "execution_count": 47,
      "outputs": []
    },
    {
      "cell_type": "markdown",
      "metadata": {
        "id": "LkwVmho2T6IR"
      },
      "source": [
        "Now let's look at the fields and see which ones are similar year to year"
      ]
    },
    {
      "cell_type": "code",
      "metadata": {
        "colab": {
          "base_uri": "https://localhost:8080/"
        },
        "id": "Ot8Jo0dmeDh4",
        "outputId": "fa3d6f9f-9414-418e-8b11-7510553e24a1"
      },
      "source": [
        "for file in hp_2015, hp_2016, hp_2017, hp_2018, hp_2019:\n",
        "  print('Data in', file['Year'][0])\n",
        "  print('File shape is ',file.shape)\n",
        "  print(file.columns)\n",
        "  print(file.head(2))\n",
        "  print('\\n\\n')"
      ],
      "execution_count": 51,
      "outputs": [
        {
          "output_type": "stream",
          "text": [
            "Data in 2015\n",
            "File shape is  (158, 13)\n",
            "Index(['Country', 'Region', 'Happiness Rank', 'Happiness Score',\n",
            "       'Standard Error', 'Economy (GDP per Capita)', 'Family',\n",
            "       'Health (Life Expectancy)', 'Freedom', 'Trust (Government Corruption)',\n",
            "       'Generosity', 'Dystopia Residual', 'Year'],\n",
            "      dtype='object')\n",
            "       Country          Region  ...  Dystopia Residual  Year\n",
            "0  Switzerland  Western Europe  ...            2.51738  2015\n",
            "1      Iceland  Western Europe  ...            2.70201  2015\n",
            "\n",
            "[2 rows x 13 columns]\n",
            "\n",
            "\n",
            "\n",
            "Data in 2016\n",
            "File shape is  (157, 14)\n",
            "Index(['Country', 'Region', 'Happiness Rank', 'Happiness Score',\n",
            "       'Lower Confidence Interval', 'Upper Confidence Interval',\n",
            "       'Economy (GDP per Capita)', 'Family', 'Health (Life Expectancy)',\n",
            "       'Freedom', 'Trust (Government Corruption)', 'Generosity',\n",
            "       'Dystopia Residual', 'Year'],\n",
            "      dtype='object')\n",
            "       Country          Region  ...  Dystopia Residual  Year\n",
            "0      Denmark  Western Europe  ...            2.73939  2016\n",
            "1  Switzerland  Western Europe  ...            2.69463  2016\n",
            "\n",
            "[2 rows x 14 columns]\n",
            "\n",
            "\n",
            "\n",
            "Data in 2017\n",
            "File shape is  (155, 13)\n",
            "Index(['Country', 'Happiness.Rank', 'Happiness.Score', 'Whisker.high',\n",
            "       'Whisker.low', 'Economy..GDP.per.Capita.', 'Family',\n",
            "       'Health..Life.Expectancy.', 'Freedom', 'Generosity',\n",
            "       'Trust..Government.Corruption.', 'Dystopia.Residual', 'Year'],\n",
            "      dtype='object')\n",
            "   Country  Happiness.Rank  ...  Dystopia.Residual  Year\n",
            "0   Norway               1  ...           2.277027  2017\n",
            "1  Denmark               2  ...           2.313707  2017\n",
            "\n",
            "[2 rows x 13 columns]\n",
            "\n",
            "\n",
            "\n",
            "Data in 2018\n",
            "File shape is  (156, 10)\n",
            "Index(['Overall rank', 'Country or region', 'Score', 'GDP per capita',\n",
            "       'Social support', 'Healthy life expectancy',\n",
            "       'Freedom to make life choices', 'Generosity',\n",
            "       'Perceptions of corruption', 'Year'],\n",
            "      dtype='object')\n",
            "   Overall rank Country or region  ...  Perceptions of corruption  Year\n",
            "0             1           Finland  ...                      0.393  2018\n",
            "1             2            Norway  ...                      0.340  2018\n",
            "\n",
            "[2 rows x 10 columns]\n",
            "\n",
            "\n",
            "\n",
            "Data in 2019\n",
            "File shape is  (156, 10)\n",
            "Index(['Overall rank', 'Country or region', 'Score', 'GDP per capita',\n",
            "       'Social support', 'Healthy life expectancy',\n",
            "       'Freedom to make life choices', 'Generosity',\n",
            "       'Perceptions of corruption', 'Year'],\n",
            "      dtype='object')\n",
            "   Overall rank Country or region  ...  Perceptions of corruption  Year\n",
            "0             1           Finland  ...                      0.393  2019\n",
            "1             2           Denmark  ...                      0.410  2019\n",
            "\n",
            "[2 rows x 10 columns]\n",
            "\n",
            "\n",
            "\n"
          ],
          "name": "stdout"
        }
      ]
    },
    {
      "cell_type": "markdown",
      "metadata": {
        "id": "9pHYycLoYACa"
      },
      "source": [
        "There's a few things we realize here:\n",
        "- The shape is different for every year\n",
        "- The number of countries (rows) is different for every year\n",
        "- The columns lables are formatted differently\n",
        "\n",
        "Let's reformat the column labels, aggregate the data into one dataframe, and check for inconsistencies in countries represented by each year's report"
      ]
    },
    {
      "cell_type": "code",
      "metadata": {
        "id": "Dxux_cUeXa0A"
      },
      "source": [
        "# Reordering  columns into the format of hp_2019\n",
        "\n",
        "# 2015\n",
        "column_reorder_2015 = ['Happiness Rank', 'Country', 'Happiness Score', 'Economy (GDP per Capita)', 'Family', 'Health (Life Expectancy)',\n",
        "                       'Freedom', 'Trust (Government Corruption)', 'Generosity', 'Year']\n",
        "format_2015_to_2019 = hp_2015[column_reorder_2015]\n",
        "format_2015_to_2019.columns = hp_2019.columns\n",
        "\n",
        "# 2016\n",
        "column_reorder_2016 = ['Happiness Rank', 'Country', 'Happiness Score', 'Economy (GDP per Capita)', 'Family', 'Health (Life Expectancy)',\n",
        "                       'Freedom', 'Trust (Government Corruption)', 'Generosity', 'Year']\n",
        "format_2016_to_2019 = hp_2016[column_reorder_2016]\n",
        "format_2016_to_2019.columns = hp_2019.columns\n",
        "\n",
        "# 2017\n",
        "column_reorder_2017 = ['Happiness.Rank', 'Country', 'Happiness.Score', 'Economy..GDP.per.Capita.', 'Family',  'Health..Life.Expectancy.',\n",
        "                       'Freedom', 'Generosity', 'Trust..Government.Corruption.', 'Year']\n",
        "format_2017_to_2019 = hp_2017[column_reorder_2017]\n",
        "format_2017_to_2019.columns = hp_2019.columns\n",
        "\n",
        "# Note: 2018 and 2019 have the same format"
      ],
      "execution_count": 59,
      "outputs": []
    },
    {
      "cell_type": "code",
      "metadata": {
        "colab": {
          "base_uri": "https://localhost:8080/",
          "height": 204
        },
        "id": "R4j4L8PAcnqZ",
        "outputId": "5923da18-3bc6-4f1d-810c-d3385e6fa6ca"
      },
      "source": [
        "# Aggregating \n",
        "all_together = hp_2019.append(hp_2018, ignore_index=True).append(format_2017_to_2019, ignore_index=True).append(format_2016_to_2019, ignore_index=True).append(format_2015_to_2019, ignore_index=True)\n",
        "\n",
        "all_together.head()"
      ],
      "execution_count": 60,
      "outputs": [
        {
          "output_type": "execute_result",
          "data": {
            "text/html": [
              "<div>\n",
              "<style scoped>\n",
              "    .dataframe tbody tr th:only-of-type {\n",
              "        vertical-align: middle;\n",
              "    }\n",
              "\n",
              "    .dataframe tbody tr th {\n",
              "        vertical-align: top;\n",
              "    }\n",
              "\n",
              "    .dataframe thead th {\n",
              "        text-align: right;\n",
              "    }\n",
              "</style>\n",
              "<table border=\"1\" class=\"dataframe\">\n",
              "  <thead>\n",
              "    <tr style=\"text-align: right;\">\n",
              "      <th></th>\n",
              "      <th>Overall rank</th>\n",
              "      <th>Country or region</th>\n",
              "      <th>Score</th>\n",
              "      <th>GDP per capita</th>\n",
              "      <th>Social support</th>\n",
              "      <th>Healthy life expectancy</th>\n",
              "      <th>Freedom to make life choices</th>\n",
              "      <th>Generosity</th>\n",
              "      <th>Perceptions of corruption</th>\n",
              "      <th>Year</th>\n",
              "    </tr>\n",
              "  </thead>\n",
              "  <tbody>\n",
              "    <tr>\n",
              "      <th>0</th>\n",
              "      <td>1</td>\n",
              "      <td>Finland</td>\n",
              "      <td>7.769</td>\n",
              "      <td>1.340</td>\n",
              "      <td>1.587</td>\n",
              "      <td>0.986</td>\n",
              "      <td>0.596</td>\n",
              "      <td>0.153</td>\n",
              "      <td>0.393</td>\n",
              "      <td>2019</td>\n",
              "    </tr>\n",
              "    <tr>\n",
              "      <th>1</th>\n",
              "      <td>2</td>\n",
              "      <td>Denmark</td>\n",
              "      <td>7.600</td>\n",
              "      <td>1.383</td>\n",
              "      <td>1.573</td>\n",
              "      <td>0.996</td>\n",
              "      <td>0.592</td>\n",
              "      <td>0.252</td>\n",
              "      <td>0.410</td>\n",
              "      <td>2019</td>\n",
              "    </tr>\n",
              "    <tr>\n",
              "      <th>2</th>\n",
              "      <td>3</td>\n",
              "      <td>Norway</td>\n",
              "      <td>7.554</td>\n",
              "      <td>1.488</td>\n",
              "      <td>1.582</td>\n",
              "      <td>1.028</td>\n",
              "      <td>0.603</td>\n",
              "      <td>0.271</td>\n",
              "      <td>0.341</td>\n",
              "      <td>2019</td>\n",
              "    </tr>\n",
              "    <tr>\n",
              "      <th>3</th>\n",
              "      <td>4</td>\n",
              "      <td>Iceland</td>\n",
              "      <td>7.494</td>\n",
              "      <td>1.380</td>\n",
              "      <td>1.624</td>\n",
              "      <td>1.026</td>\n",
              "      <td>0.591</td>\n",
              "      <td>0.354</td>\n",
              "      <td>0.118</td>\n",
              "      <td>2019</td>\n",
              "    </tr>\n",
              "    <tr>\n",
              "      <th>4</th>\n",
              "      <td>5</td>\n",
              "      <td>Netherlands</td>\n",
              "      <td>7.488</td>\n",
              "      <td>1.396</td>\n",
              "      <td>1.522</td>\n",
              "      <td>0.999</td>\n",
              "      <td>0.557</td>\n",
              "      <td>0.322</td>\n",
              "      <td>0.298</td>\n",
              "      <td>2019</td>\n",
              "    </tr>\n",
              "  </tbody>\n",
              "</table>\n",
              "</div>"
            ],
            "text/plain": [
              "   Overall rank Country or region  ...  Perceptions of corruption  Year\n",
              "0             1           Finland  ...                      0.393  2019\n",
              "1             2           Denmark  ...                      0.410  2019\n",
              "2             3            Norway  ...                      0.341  2019\n",
              "3             4           Iceland  ...                      0.118  2019\n",
              "4             5       Netherlands  ...                      0.298  2019\n",
              "\n",
              "[5 rows x 10 columns]"
            ]
          },
          "metadata": {
            "tags": []
          },
          "execution_count": 60
        }
      ]
    },
    {
      "cell_type": "code",
      "metadata": {
        "colab": {
          "base_uri": "https://localhost:8080/"
        },
        "id": "XT4UxqnSYXNR",
        "outputId": "06311a3f-d0fc-4218-b067-6be8c212f22d"
      },
      "source": [
        "# Checking for data leakage by country since country lengths are different\n",
        "country_counts = all_together.groupby('Country or region').count()\n",
        "sparse_countries = country_counts[country_counts['Overall rank'] < 5]['Overall rank'].sort_values(ascending=False)\n",
        "sparse_countries"
      ],
      "execution_count": 72,
      "outputs": [
        {
          "output_type": "execute_result",
          "data": {
            "text/plain": [
              "Country or region\n",
              "Angola                      4\n",
              "Taiwan                      4\n",
              "Central African Republic    4\n",
              "Sudan                       4\n",
              "South Sudan                 4\n",
              "Hong Kong                   4\n",
              "Laos                        4\n",
              "Somalia                     4\n",
              "Lesotho                     4\n",
              "Macedonia                   4\n",
              "Mozambique                  4\n",
              "Namibia                     4\n",
              "North Cyprus                3\n",
              "Belize                      3\n",
              "Comoros                     3\n",
              "Trinidad and Tobago         3\n",
              "Trinidad & Tobago           2\n",
              "Northern Cyprus             2\n",
              "Suriname                    2\n",
              "Swaziland                   2\n",
              "Oman                        1\n",
              "Puerto Rico                 1\n",
              "Somaliland Region           1\n",
              "Hong Kong S.A.R., China     1\n",
              "Somaliland region           1\n",
              "Gambia                      1\n",
              "Djibouti                    1\n",
              "Taiwan Province of China    1\n",
              "North Macedonia             1\n",
              "Name: Overall rank, dtype: int64"
            ]
          },
          "metadata": {
            "tags": []
          },
          "execution_count": 72
        }
      ]
    },
    {
      "cell_type": "code",
      "metadata": {
        "id": "5elhTQ0Ahov4"
      },
      "source": [
        ""
      ],
      "execution_count": null,
      "outputs": []
    }
  ]
}